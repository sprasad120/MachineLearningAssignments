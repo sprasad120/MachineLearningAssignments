{
 "cells": [
  {
   "cell_type": "code",
   "execution_count": 11,
   "id": "015a09fa",
   "metadata": {},
   "outputs": [
    {
     "name": "stdout",
     "output_type": "stream",
     "text": [
      "[19, 19, 20, 22, 24, 24, 24, 25, 25, 26]\n",
      "19\n",
      "26\n",
      "[19, 19, 20, 22, 24, 24, 24, 25, 25, 26, 19, 26]\n",
      "24.0\n",
      "22.75\n",
      "7\n"
     ]
    }
   ],
   "source": [
    "import statistics\n",
    "ages = [19, 22, 19, 24, 20, 25, 26, 24, 25, 24]\n",
    "ages.sort()\n",
    "print(ages)\n",
    "minAges = min(ages)\n",
    "print(minAges)\n",
    "maxAges = max(ages)\n",
    "print(maxAges)\n",
    "ages.append(minAges)\n",
    "ages.append(maxAges)\n",
    "print(ages)\n",
    "medianAge = statistics.median(ages)\n",
    "print(medianAge)\n",
    "averageAge = sum(ages) / len(ages)\n",
    "print(averageAge)\n",
    "rangeAge = maxAges - minAges\n",
    "print(rangeAge)"
   ]
  },
  {
   "cell_type": "code",
   "execution_count": 25,
   "id": "e3e7cdf5",
   "metadata": {},
   "outputs": [
    {
     "name": "stdout",
     "output_type": "stream",
     "text": [
      "{'name': 'lazy', 'color': 'golden brown', 'breed': 'cockerspaniel', 'legs': 'short', 'age': 7}\n",
      "{'first_name': 'Sai Prasad', 'last_name': 'Surampudi', 'gender': 'male', 'age': 27, 'marital_status': 'single', 'skills': ['Quantum computing', 'Java', 'Machine learning'], 'country': 'India', 'city': 'chennai', 'address': 'TVH Park villa'}\n",
      "9\n",
      "['Quantum computing', 'Java', 'Machine learning']\n",
      "<class 'list'>\n",
      "['Quantum computing', 'Java', 'Machine learning', 'MongoDB', 'AngularJS']\n",
      "-----------\n",
      "printing dictionary keys as a list\n",
      "dict_keys(['first_name', 'last_name', 'gender', 'age', 'marital_status', 'skills', 'country', 'city', 'address'])\n",
      "['Sai Prasad', 'Surampudi', 'male', 27, 'single', ['Quantum computing', 'Java', 'Machine learning', 'MongoDB', 'AngularJS'], 'India', 'chennai', 'TVH Park villa']\n"
     ]
    }
   ],
   "source": [
    "dog = dict()\n",
    "dog = {'name': 'lazy', 'color':'golden brown', 'breed': 'cockerspaniel', 'legs': 'short', 'age': 7}\n",
    "print(dog)\n",
    "student = {'first_name' : 'Sai Prasad', 'last_name' : 'Surampudi', 'gender' : 'male', 'age' : 27, 'marital_status' : 'single',\n",
    "            'skills' : ['Quantum computing', 'Java', 'Machine learning'], 'country' : 'India', 'city' : 'chennai', 'address' : 'TVH Park villa'}\n",
    "print(student)\n",
    "studentLength = len(student)\n",
    "print(studentLength)\n",
    "studentSkillSet = student.get('skills')\n",
    "print(studentSkillSet)\n",
    "skillDataType = type(student.get('skills'))\n",
    "print(skillDataType)\n",
    "student['skills'] += ['MongoDB', 'AngularJS']\n",
    "print(student['skills'])\n",
    "print('-----------')\n",
    "print('printing dictionary keys as a list')\n",
    "print(student.keys())\n",
    "student_value_list = list(student.values())\n",
    "print(student_value_list)"
   ]
  },
  {
   "cell_type": "code",
   "execution_count": 31,
   "id": "575a1be6",
   "metadata": {},
   "outputs": [
    {
     "name": "stdout",
     "output_type": "stream",
     "text": [
      "('amy', 'barbara', 'caroline', 'aaron', 'blake', 'chris')\n",
      "6\n",
      "('amy', 'barbara', 'caroline', 'aaron', 'blake', 'chris', 'Allie', 'Austin')\n"
     ]
    }
   ],
   "source": [
    "sisters = (\"amy\", \"barbara\", \"caroline\")\n",
    "brothers = (\"aaron\", \"blake\", \"chris\")\n",
    "siblings = sisters + brothers\n",
    "print(siblings)\n",
    "print(len(siblings))\n",
    "siblings += (\"Allie\", \"Austin\")\n",
    "family_members = siblings\n",
    "print(family_members)"
   ]
  },
  {
   "cell_type": "code",
   "execution_count": 51,
   "id": "1ac055e7",
   "metadata": {},
   "outputs": [
    {
     "name": "stdout",
     "output_type": "stream",
     "text": [
      "7\n",
      "{'IBM', 'Oracle', 'Netflix', 'Twitter', 'Apple', 'Meta', 'Microsoft', 'Facebook', 'Google', 'Amazon'}\n",
      "{'IBM', 'Oracle', 'Netflix', 'Twitter', 'Apple', 'Microsoft', 'Facebook', 'Google', 'Amazon'}\n",
      "{'IBM', 'Oracle', 'Netflix', 'Twitter', 'Apple', 'Microsoft', 'Facebook', 'Google', 'Amazon'}\n",
      "{19, 20, 22, 24, 25, 26, 27, 28}\n",
      "{19, 20, 22, 24, 25, 26}\n",
      "True\n",
      "False\n",
      "None\n",
      "None\n",
      "set()\n",
      "False\n"
     ]
    }
   ],
   "source": [
    "it_companies = {'Facebook', 'Google', 'Microsoft', 'Apple', 'IBM', 'Oracle', 'Amazon'}\n",
    "A = {19, 22, 24, 20, 25, 26} \n",
    "B = {19, 22, 20, 25, 26, 24, 28, 27} \n",
    "age = [22, 19, 24, 25, 26, 24, 25, 24]\n",
    "print(len(it_companies))\n",
    "it_companies.add('Twitter')\n",
    "list_it_companies = ['Netflix', 'Meta']\n",
    "it_companies.update(list_it_companies)\n",
    "print(it_companies)\n",
    "it_companies.remove('Meta')\n",
    "print(it_companies)\n",
    "it_companies.discard('Meta')\n",
    "print(it_companies)\n",
    "#it_companies.remove('Meta')\n",
    "AunionB = A.union(B)\n",
    "print(AunionB)\n",
    "AintersectionB = A.intersection(B)\n",
    "print(AintersectionB)\n",
    "print(A.issubset(B))\n",
    "print(A.isdisjoint(B))\n",
    "joinAwithB = A.update(B)\n",
    "print(joinAwithB)\n",
    "joinBwithA = B.update(A)\n",
    "print(joinBwithA)\n",
    "print(A.symmetric_difference(B))\n",
    "A.clear()\n",
    "B.clear()\n",
    "age_set = set(age)\n",
    "print(len(age) == len(age_set))"
   ]
  },
  {
   "cell_type": "code",
   "execution_count": 52,
   "id": "9c1613d9",
   "metadata": {},
   "outputs": [
    {
     "name": "stdout",
     "output_type": "stream",
     "text": [
      "2827.7999999999997\n",
      "188.51999999999998\n"
     ]
    }
   ],
   "source": [
    "PI = 3.142\n",
    "radius = 30\n",
    "def findAreaofCircle(r):\n",
    "    return PI * (r*r);\n",
    "_area_of_circle_ = findAreaofCircle(radius)\n",
    "_circum_of_circle_ = 2 * PI * radius\n",
    "print(_area_of_circle_)\n",
    "print(_circum_of_circle_)"
   ]
  },
  {
   "cell_type": "code",
   "execution_count": 1,
   "id": "fc56a2a9",
   "metadata": {},
   "outputs": [
    {
     "name": "stdout",
     "output_type": "stream",
     "text": [
      "{'teach', 'love', 'I', 'and', 'teacher', 'am', 'to', 'people', 'inspire', 'a'}\n"
     ]
    }
   ],
   "source": [
    "str1 = 'I am a teacher and I love to inspire and teach people'\n",
    "unique_words = set(str1.split(' '))\n",
    "print(unique_words)"
   ]
  },
  {
   "cell_type": "code",
   "execution_count": 4,
   "id": "a32e6416",
   "metadata": {},
   "outputs": [
    {
     "name": "stdout",
     "output_type": "stream",
     "text": [
      "Name\t\tAge\tCountry\tCity\n",
      "Asabeneh\t250\tFinland\tHelsinki\n"
     ]
    }
   ],
   "source": [
    "print(\"Name\\t\\tAge\\tCountry\\tCity\")\n",
    "print(\"Asabeneh\\t250\\tFinland\\tHelsinki\")"
   ]
  },
  {
   "cell_type": "code",
   "execution_count": 6,
   "id": "31326951",
   "metadata": {},
   "outputs": [
    {
     "name": "stdout",
     "output_type": "stream",
     "text": [
      "The area of a circle with radius 10 is 62.800000 meters square\n"
     ]
    }
   ],
   "source": [
    "radius = 10\n",
    "area = 3.14 * radius * 2\n",
    "print(\"The area of a circle with radius %d is %f meters square\"%(radius, area))"
   ]
  },
  {
   "cell_type": "code",
   "execution_count": 8,
   "id": "456d9c42",
   "metadata": {},
   "outputs": [
    {
     "name": "stdout",
     "output_type": "stream",
     "text": [
      "Enter number of elements : 4\n",
      "150\n",
      "155\n",
      "145\n",
      "148\n",
      "[150, 155, 145, 148]\n",
      "after converting to kgs\n",
      "[68.03955366052799, 70.30753878254558, 65.77156853851038, 67.13235961172094]\n"
     ]
    }
   ],
   "source": [
    "poundlst = []\n",
    "kglst = []\n",
    "n = int(input(\"Enter number of elements : \"))\n",
    "  \n",
    "for i in range(0, n):\n",
    "    pele = int(input())\n",
    "    poundlst.append(pele)\n",
    "    kele = pele/2.2046\n",
    "    kglst.append(kele)\n",
    "      \n",
    "print(poundlst)\n",
    "print(\"after converting to kgs\")\n",
    "print(kglst)\n"
   ]
  },
  {
   "cell_type": "code",
   "execution_count": null,
   "id": "af27283a",
   "metadata": {},
   "outputs": [],
   "source": []
  }
 ],
 "metadata": {
  "kernelspec": {
   "display_name": "Python 3 (ipykernel)",
   "language": "python",
   "name": "python3"
  },
  "language_info": {
   "codemirror_mode": {
    "name": "ipython",
    "version": 3
   },
   "file_extension": ".py",
   "mimetype": "text/x-python",
   "name": "python",
   "nbconvert_exporter": "python",
   "pygments_lexer": "ipython3",
   "version": "3.9.12"
  }
 },
 "nbformat": 4,
 "nbformat_minor": 5
}
